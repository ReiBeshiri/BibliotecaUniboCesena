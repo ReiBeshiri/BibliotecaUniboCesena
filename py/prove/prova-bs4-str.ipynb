{
 "cells": [
  {
   "cell_type": "code",
   "execution_count": 6,
   "metadata": {},
   "outputs": [
    {
     "name": "stdout",
     "output_type": "stream",
     "text": [
      "generale figlio del satrapo di Sardi .\n"
     ]
    }
   ],
   "source": [
    "import requests\n",
    "from bs4 import BeautifulSoup\n",
    "\n",
    "r = requests.get(\"https://it.wikipedia.org/wiki/Artaferne_(figlio)\")\n",
    "soup = BeautifulSoup(r.content, \"html.parser\")\n",
    "\n",
    "str = soup.body.get_text()\n",
    "str = str.split(\"generale\", 1)\n",
    "str = str[1]\n",
    "str = str.split(\"Artaferne\", 1)\n",
    "str = str[0]\n",
    "str = str.split(\",\", 1)\n",
    "str = str[1]\n",
    "str = str.split(\".\", 1)\n",
    "str = str[0]\n",
    "str = \"generale\" + str + \".\"\n",
    "print(str)\n",
    "file = open('ProvaWrite.txt', 'w')\n",
    "file.write(str)\n",
    "file.close()\n",
    "file = open('ProvaWrite.txt', 'a')\n",
    "file.write(\"append\")\n",
    "file.close()"
   ]
  },
  {
   "cell_type": "code",
   "execution_count": null,
   "metadata": {},
   "outputs": [],
   "source": []
  },
  {
   "cell_type": "code",
   "execution_count": null,
   "metadata": {},
   "outputs": [],
   "source": []
  }
 ],
 "metadata": {
  "kernelspec": {
   "display_name": "Python 3",
   "language": "python",
   "name": "python3"
  },
  "language_info": {
   "codemirror_mode": {
    "name": "ipython",
    "version": 3
   },
   "file_extension": ".py",
   "mimetype": "text/x-python",
   "name": "python",
   "nbconvert_exporter": "python",
   "pygments_lexer": "ipython3",
   "version": "3.7.1"
  }
 },
 "nbformat": 4,
 "nbformat_minor": 2
}
